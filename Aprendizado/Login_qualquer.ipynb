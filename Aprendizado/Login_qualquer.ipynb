{
 "cells": [
  {
   "cell_type": "markdown",
   "id": "f8aca5f7",
   "metadata": {},
   "source": [
    "# Código para Login automatico\n"
   ]
  },
  {
   "cell_type": "code",
   "execution_count": 1,
   "id": "422399fc",
   "metadata": {},
   "outputs": [],
   "source": [
    "import pyautogui\n",
    "import time\n",
    "import pyperclip\n",
    "from selenium import webdriver\n",
    "from selenium.webdriver.common.keys import Keys\n",
    "from selenium.webdriver.common.by import By\n",
    "\n",
    "\n",
    "# 1 passo criar navegador web \n",
    "\n",
    "navegador = webdriver.Chrome()\n",
    "navegador.get(\"https://www.instagram.com/\") # Coloque aqui a url do site aoi qual quer se logar\n",
    "\n",
    "# 2- passo - colocar nome de usuario e senha\n",
    "\n",
    "pyautogui.write(\"seu nickname\")# Coloque aqui seu login\n",
    "pyautogui.press(\"enter\")\n",
    "pyautogui.write(\"senha\")# Coloque aqui sua senha\n",
    "pyautogui.press(\"enter\")\n",
    "\n"
   ]
  },
  {
   "cell_type": "markdown",
   "id": "45d3ca49",
   "metadata": {},
   "source": [
    "Para localizar posição do mouse"
   ]
  }
 ],
 "metadata": {
  "kernelspec": {
   "display_name": "Python 3 (ipykernel)",
   "language": "python",
   "name": "python3"
  },
  "language_info": {
   "codemirror_mode": {
    "name": "ipython",
    "version": 3
   },
   "file_extension": ".py",
   "mimetype": "text/x-python",
   "name": "python",
   "nbconvert_exporter": "python",
   "pygments_lexer": "ipython3",
   "version": "3.9.7"
  }
 },
 "nbformat": 4,
 "nbformat_minor": 5
}
